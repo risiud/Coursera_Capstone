{
    "cells": [
        {
            "cell_type": "markdown",
            "metadata": {
                "collapsed": true
            },
            "source": "## **Opening a New Business in San Antonio, TX Informed by Foursquare Data**\n\n### **D. Risius**  \n### *1/5/2020*"
        },
        {
            "cell_type": "markdown",
            "metadata": {},
            "source": "### **Introduction:**\nSan Antonio, Texas is one of the fastest growing cities in the United States.  According to the [United States Census Bureau](https://www.census.gov/newsroom/press-releases/2018/estimates-cities.html), San Antonio topped the list of the fastest growing metro areas for 2017.  In previous analysis, we clustered and segmented neighborhoods in [Toronto](https://github.com/risiud/Coursera_Capstone/blob/master/Clustering%20Toronto%20Neighborhoods.ipynb) and New York city based on FourSquare venue data.  San Antonio is a very different city than either New York or Toronto.  For one, it is a very large city with relatively sparse population compared to the other cities.  According to [Wikopedia](https://en.wikipedia.org/wiki/San_Antonio), San Antonio city consists of around 1.5 million people within a land area of 461 square miles compared to 8.5 million for 303 square miles in [New York City](https://en.wikipedia.org/wiki/New_York_City) and 2.7 million for 243 square miles in [Toronto](https://en.wikipedia.org/wiki/Toronto).  The ethnicity of the three cities is also different.  San Antonio has a large hispanic influence with around 63% of residents of hispanic or latino origin.  New York is around 28% hispanic while Toronto is around 4% hispanic with a much larger proportion of Asian (40%) and European (48%) than San Antonio or New York.  This data may help us determine which types of venues may be more successful in different neighborhoods.\n\n### **Problem Statement:** \nGiven our previous analysis clustering and segmenting neighborhoods using FourSquare data in New York City and Toronto, how does San Antonio, Texas compare in terms of most popular types of veneus?  If we wanted to open a new business in San Antonio, can we use the FourSquare data for the different clusters to inform a decision on what type of business to open and the best location around the city to start it?\n\n### **Data:** \nNew York City and Toronto have well defined neighborhoods that helped us cluster the data.  San Antonio has some established neighborhoods, however many of the areas within the city are not defined within a particular neighborhood.  Therefore we can't use the same approach as we did with New York and Toronto as we would omit large portions of the city.  San Antonio consists of 87 seperate zip codes.  For analyzing San Antonio we will these zip codes intead and will map and cluster those using the geographical center of the zip code.  To get the geographic coordinates we used the website [San Antonio AreaConnect](https://sanantonio.areaconnect.com/zip2.htm?city=San%20Antonio&search=zip) which provides latitude/longitude coordinates for the various zip codes around San Antonio.  We will cluster these zip codes using the Foursquare location data similiar to the analysis in New York and Toronto.  Based on the cluster analysis, we will recommend ideas for new business venue(s) in particular zip codes.  The excerpt of the San Antonio zip code data below shows the data we will use for our analysis.  First we import all the necessary packages to read the data as a pandas dataframe and plot the geographic data on a map.     "
        },
        {
            "cell_type": "code",
            "execution_count": 8,
            "metadata": {},
            "outputs": [
                {
                    "name": "stdout",
                    "output_type": "stream",
                    "text": "Libraries imported.\n"
                }
            ],
            "source": "import numpy as np # library to handle data in a vectorized manner\n\nimport pandas as pd # library for data analsysis\npd.set_option('display.max_columns', None)\npd.set_option('display.max_rows', None)\n\nimport json # library to handle JSON files\n\n#!conda install -c conda-forge geopy --yes # uncomment this line if you haven't completed the Foursquare API lab\nfrom geopy.geocoders import Nominatim # convert an address into latitude and longitude values\n\nimport requests # library to handle requests\nfrom pandas.io.json import json_normalize # tranform JSON file into a pandas dataframe\n\n# Matplotlib and associated plotting modules\nimport matplotlib.cm as cm\nimport matplotlib.colors as colors\n\n# import k-means from clustering stage\nfrom sklearn.cluster import KMeans\n\n#!conda install -c conda-forge folium=0.5.0 --yes # uncomment this line if you haven't completed the Foursquare API lab\nimport folium # map rendering library\n\nprint('Libraries imported.')"
        },
        {
            "cell_type": "code",
            "execution_count": 9,
            "metadata": {},
            "outputs": [
                {
                    "data": {
                        "text/html": "<div>\n<style scoped>\n    .dataframe tbody tr th:only-of-type {\n        vertical-align: middle;\n    }\n\n    .dataframe tbody tr th {\n        vertical-align: top;\n    }\n\n    .dataframe thead th {\n        text-align: right;\n    }\n</style>\n<table border=\"1\" class=\"dataframe\">\n  <thead>\n    <tr style=\"text-align: right;\">\n      <th></th>\n      <th>Zipcode</th>\n      <th>City</th>\n      <th>State</th>\n      <th>AreaCode</th>\n      <th>County</th>\n      <th>Latitude</th>\n      <th>Longitude</th>\n    </tr>\n  </thead>\n  <tbody>\n    <tr>\n      <th>0</th>\n      <td>78201</td>\n      <td>San Antonio</td>\n      <td>TX</td>\n      <td>210</td>\n      <td>Bexar</td>\n      <td>29.472</td>\n      <td>-98.537</td>\n    </tr>\n    <tr>\n      <th>1</th>\n      <td>78202</td>\n      <td>San Antonio</td>\n      <td>TX</td>\n      <td>210</td>\n      <td>Bexar</td>\n      <td>29.422</td>\n      <td>-98.466</td>\n    </tr>\n    <tr>\n      <th>2</th>\n      <td>78203</td>\n      <td>San Antonio</td>\n      <td>TX</td>\n      <td>210</td>\n      <td>Bexar</td>\n      <td>29.415</td>\n      <td>-98.462</td>\n    </tr>\n    <tr>\n      <th>3</th>\n      <td>78204</td>\n      <td>San Antonio</td>\n      <td>TX</td>\n      <td>210</td>\n      <td>Bexar</td>\n      <td>29.397</td>\n      <td>-98.500</td>\n    </tr>\n    <tr>\n      <th>4</th>\n      <td>78205</td>\n      <td>San Antonio</td>\n      <td>TX</td>\n      <td>210</td>\n      <td>Bexar</td>\n      <td>29.424</td>\n      <td>-98.487</td>\n    </tr>\n  </tbody>\n</table>\n</div>",
                        "text/plain": "   Zipcode         City State  AreaCode County  Latitude  Longitude\n0    78201  San Antonio    TX       210  Bexar    29.472    -98.537\n1    78202  San Antonio    TX       210  Bexar    29.422    -98.466\n2    78203  San Antonio    TX       210  Bexar    29.415    -98.462\n3    78204  San Antonio    TX       210  Bexar    29.397    -98.500\n4    78205  San Antonio    TX       210  Bexar    29.424    -98.487"
                    },
                    "execution_count": 9,
                    "metadata": {},
                    "output_type": "execute_result"
                }
            ],
            "source": "url = \"https://raw.githubusercontent.com/risiud/Coursera_Capstone/master/SanAntonioZips.csv\"\n\nneighborhoods = pd.read_csv(url)\nneighborhoods.head()"
        },
        {
            "cell_type": "code",
            "execution_count": 4,
            "metadata": {},
            "outputs": [
                {
                    "name": "stdout",
                    "output_type": "stream",
                    "text": "The dataframe has 87 Zip Codes.\n"
                }
            ],
            "source": "print('The dataframe has {} Zip Codes.'.format(\n        len(neighborhoods['Zipcode'].unique())\n    )\n)"
        },
        {
            "cell_type": "markdown",
            "metadata": {},
            "source": "We use the geopy and folium packages to map the geographic position for each of the 87 zipcodes around San Antonio.  We will compare and cluster these in the follow-on analysis to find recommended locations to open a new business.![San Antonio Zip Codes](https://github.com/risiud/Coursera_Capstone/blob/master/SanAntonioNeighborhoods.JPG?raw=true)"
        }
    ],
    "metadata": {
        "kernelspec": {
            "display_name": "Python 3.6",
            "language": "python",
            "name": "python3"
        },
        "language_info": {
            "codemirror_mode": {
                "name": "ipython",
                "version": 3
            },
            "file_extension": ".py",
            "mimetype": "text/x-python",
            "name": "python",
            "nbconvert_exporter": "python",
            "pygments_lexer": "ipython3",
            "version": "3.6.8"
        }
    },
    "nbformat": 4,
    "nbformat_minor": 1
}